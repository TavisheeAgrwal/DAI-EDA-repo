{
 "cells": [
  {
   "cell_type": "code",
   "execution_count": 1,
   "id": "43b3d6bf",
   "metadata": {
    "_cell_guid": "b1076dfc-b9ad-4769-8c92-a6c4dae69d19",
    "_uuid": "8f2839f25d086af736a60e9eeb907d3b93b6e0e5",
    "execution": {
     "iopub.execute_input": "2024-11-05T16:22:43.303193Z",
     "iopub.status.busy": "2024-11-05T16:22:43.302397Z",
     "iopub.status.idle": "2024-11-05T16:22:44.288083Z",
     "shell.execute_reply": "2024-11-05T16:22:44.286691Z"
    },
    "papermill": {
     "duration": 0.998216,
     "end_time": "2024-11-05T16:22:44.290740",
     "exception": false,
     "start_time": "2024-11-05T16:22:43.292524",
     "status": "completed"
    },
    "tags": []
   },
   "outputs": [
    {
     "name": "stdout",
     "output_type": "stream",
     "text": [
      "/kaggle/input/penguin/penguins_lter.csv\n"
     ]
    }
   ],
   "source": [
    "# This Python 3 environment comes with many helpful analytics libraries installed\n",
    "# It is defined by the kaggle/python Docker image: https://github.com/kaggle/docker-python\n",
    "# For example, here's several helpful packages to load\n",
    "\n",
    "import numpy as np # linear algebra\n",
    "import pandas as pd # data processing, CSV file I/O (e.g. pd.read_csv)\n",
    "\n",
    "# Input data files are available in the read-only \"../input/\" directory\n",
    "# For example, running this (by clicking run or pressing Shift+Enter) will list all files under the input directory\n",
    "\n",
    "import os\n",
    "for dirname, _, filenames in os.walk('/kaggle/input'):\n",
    "    for filename in filenames:\n",
    "        print(os.path.join(dirname, filename))\n",
    "\n",
    "# You can write up to 20GB to the current directory (/kaggle/working/) that gets preserved as output when you create a version using \"Save & Run All\" \n",
    "# You can also write temporary files to /kaggle/temp/, but they won't be saved outside of the current session"
   ]
  },
  {
   "cell_type": "code",
   "execution_count": 2,
   "id": "5d112957",
   "metadata": {
    "execution": {
     "iopub.execute_input": "2024-11-05T16:22:44.305680Z",
     "iopub.status.busy": "2024-11-05T16:22:44.304208Z",
     "iopub.status.idle": "2024-11-05T16:22:44.331681Z",
     "shell.execute_reply": "2024-11-05T16:22:44.330499Z"
    },
    "papermill": {
     "duration": 0.037926,
     "end_time": "2024-11-05T16:22:44.334641",
     "exception": false,
     "start_time": "2024-11-05T16:22:44.296715",
     "status": "completed"
    },
    "tags": []
   },
   "outputs": [],
   "source": [
    "penguins_df=pd.read_csv('/kaggle/input/penguin/penguins_lter.csv')"
   ]
  },
  {
   "cell_type": "code",
   "execution_count": 3,
   "id": "11b088bb",
   "metadata": {
    "execution": {
     "iopub.execute_input": "2024-11-05T16:22:44.348298Z",
     "iopub.status.busy": "2024-11-05T16:22:44.347756Z",
     "iopub.status.idle": "2024-11-05T16:22:44.386692Z",
     "shell.execute_reply": "2024-11-05T16:22:44.385415Z"
    },
    "papermill": {
     "duration": 0.04899,
     "end_time": "2024-11-05T16:22:44.389350",
     "exception": false,
     "start_time": "2024-11-05T16:22:44.340360",
     "status": "completed"
    },
    "tags": []
   },
   "outputs": [
    {
     "data": {
      "text/html": [
       "<div>\n",
       "<style scoped>\n",
       "    .dataframe tbody tr th:only-of-type {\n",
       "        vertical-align: middle;\n",
       "    }\n",
       "\n",
       "    .dataframe tbody tr th {\n",
       "        vertical-align: top;\n",
       "    }\n",
       "\n",
       "    .dataframe thead th {\n",
       "        text-align: right;\n",
       "    }\n",
       "</style>\n",
       "<table border=\"1\" class=\"dataframe\">\n",
       "  <thead>\n",
       "    <tr style=\"text-align: right;\">\n",
       "      <th></th>\n",
       "      <th>studyName</th>\n",
       "      <th>Sample Number</th>\n",
       "      <th>Species</th>\n",
       "      <th>Region</th>\n",
       "      <th>Island</th>\n",
       "      <th>Stage</th>\n",
       "      <th>Individual ID</th>\n",
       "      <th>Clutch Completion</th>\n",
       "      <th>Date Egg</th>\n",
       "      <th>Culmen Length (mm)</th>\n",
       "      <th>Culmen Depth (mm)</th>\n",
       "      <th>Flipper Length (mm)</th>\n",
       "      <th>Body Mass (g)</th>\n",
       "      <th>Sex</th>\n",
       "      <th>Delta 15 N (o/oo)</th>\n",
       "      <th>Delta 13 C (o/oo)</th>\n",
       "      <th>Comments</th>\n",
       "    </tr>\n",
       "  </thead>\n",
       "  <tbody>\n",
       "    <tr>\n",
       "      <th>0</th>\n",
       "      <td>PAL0708</td>\n",
       "      <td>1</td>\n",
       "      <td>Adelie Penguin (Pygoscelis adeliae)</td>\n",
       "      <td>Anvers</td>\n",
       "      <td>Torgersen</td>\n",
       "      <td>Adult, 1 Egg Stage</td>\n",
       "      <td>N1A1</td>\n",
       "      <td>Yes</td>\n",
       "      <td>11/11/07</td>\n",
       "      <td>39.1</td>\n",
       "      <td>18.7</td>\n",
       "      <td>181.0</td>\n",
       "      <td>3750.0</td>\n",
       "      <td>MALE</td>\n",
       "      <td>NaN</td>\n",
       "      <td>NaN</td>\n",
       "      <td>Not enough blood for isotopes.</td>\n",
       "    </tr>\n",
       "    <tr>\n",
       "      <th>1</th>\n",
       "      <td>PAL0708</td>\n",
       "      <td>2</td>\n",
       "      <td>Adelie Penguin (Pygoscelis adeliae)</td>\n",
       "      <td>Anvers</td>\n",
       "      <td>Torgersen</td>\n",
       "      <td>Adult, 1 Egg Stage</td>\n",
       "      <td>N1A2</td>\n",
       "      <td>Yes</td>\n",
       "      <td>11/11/07</td>\n",
       "      <td>39.5</td>\n",
       "      <td>17.4</td>\n",
       "      <td>186.0</td>\n",
       "      <td>3800.0</td>\n",
       "      <td>FEMALE</td>\n",
       "      <td>8.94956</td>\n",
       "      <td>-24.69454</td>\n",
       "      <td>NaN</td>\n",
       "    </tr>\n",
       "    <tr>\n",
       "      <th>2</th>\n",
       "      <td>PAL0708</td>\n",
       "      <td>3</td>\n",
       "      <td>Adelie Penguin (Pygoscelis adeliae)</td>\n",
       "      <td>Anvers</td>\n",
       "      <td>Torgersen</td>\n",
       "      <td>Adult, 1 Egg Stage</td>\n",
       "      <td>N2A1</td>\n",
       "      <td>Yes</td>\n",
       "      <td>11/16/07</td>\n",
       "      <td>40.3</td>\n",
       "      <td>18.0</td>\n",
       "      <td>195.0</td>\n",
       "      <td>3250.0</td>\n",
       "      <td>FEMALE</td>\n",
       "      <td>8.36821</td>\n",
       "      <td>-25.33302</td>\n",
       "      <td>NaN</td>\n",
       "    </tr>\n",
       "    <tr>\n",
       "      <th>3</th>\n",
       "      <td>PAL0708</td>\n",
       "      <td>4</td>\n",
       "      <td>Adelie Penguin (Pygoscelis adeliae)</td>\n",
       "      <td>Anvers</td>\n",
       "      <td>Torgersen</td>\n",
       "      <td>Adult, 1 Egg Stage</td>\n",
       "      <td>N2A2</td>\n",
       "      <td>Yes</td>\n",
       "      <td>11/16/07</td>\n",
       "      <td>NaN</td>\n",
       "      <td>NaN</td>\n",
       "      <td>NaN</td>\n",
       "      <td>NaN</td>\n",
       "      <td>NaN</td>\n",
       "      <td>NaN</td>\n",
       "      <td>NaN</td>\n",
       "      <td>Adult not sampled.</td>\n",
       "    </tr>\n",
       "    <tr>\n",
       "      <th>4</th>\n",
       "      <td>PAL0708</td>\n",
       "      <td>5</td>\n",
       "      <td>Adelie Penguin (Pygoscelis adeliae)</td>\n",
       "      <td>Anvers</td>\n",
       "      <td>Torgersen</td>\n",
       "      <td>Adult, 1 Egg Stage</td>\n",
       "      <td>N3A1</td>\n",
       "      <td>Yes</td>\n",
       "      <td>11/16/07</td>\n",
       "      <td>36.7</td>\n",
       "      <td>19.3</td>\n",
       "      <td>193.0</td>\n",
       "      <td>3450.0</td>\n",
       "      <td>FEMALE</td>\n",
       "      <td>8.76651</td>\n",
       "      <td>-25.32426</td>\n",
       "      <td>NaN</td>\n",
       "    </tr>\n",
       "  </tbody>\n",
       "</table>\n",
       "</div>"
      ],
      "text/plain": [
       "  studyName  Sample Number                              Species  Region  \\\n",
       "0   PAL0708              1  Adelie Penguin (Pygoscelis adeliae)  Anvers   \n",
       "1   PAL0708              2  Adelie Penguin (Pygoscelis adeliae)  Anvers   \n",
       "2   PAL0708              3  Adelie Penguin (Pygoscelis adeliae)  Anvers   \n",
       "3   PAL0708              4  Adelie Penguin (Pygoscelis adeliae)  Anvers   \n",
       "4   PAL0708              5  Adelie Penguin (Pygoscelis adeliae)  Anvers   \n",
       "\n",
       "      Island               Stage Individual ID Clutch Completion  Date Egg  \\\n",
       "0  Torgersen  Adult, 1 Egg Stage          N1A1               Yes  11/11/07   \n",
       "1  Torgersen  Adult, 1 Egg Stage          N1A2               Yes  11/11/07   \n",
       "2  Torgersen  Adult, 1 Egg Stage          N2A1               Yes  11/16/07   \n",
       "3  Torgersen  Adult, 1 Egg Stage          N2A2               Yes  11/16/07   \n",
       "4  Torgersen  Adult, 1 Egg Stage          N3A1               Yes  11/16/07   \n",
       "\n",
       "   Culmen Length (mm)  Culmen Depth (mm)  Flipper Length (mm)  Body Mass (g)  \\\n",
       "0                39.1               18.7                181.0         3750.0   \n",
       "1                39.5               17.4                186.0         3800.0   \n",
       "2                40.3               18.0                195.0         3250.0   \n",
       "3                 NaN                NaN                  NaN            NaN   \n",
       "4                36.7               19.3                193.0         3450.0   \n",
       "\n",
       "      Sex  Delta 15 N (o/oo)  Delta 13 C (o/oo)  \\\n",
       "0    MALE                NaN                NaN   \n",
       "1  FEMALE            8.94956          -24.69454   \n",
       "2  FEMALE            8.36821          -25.33302   \n",
       "3     NaN                NaN                NaN   \n",
       "4  FEMALE            8.76651          -25.32426   \n",
       "\n",
       "                         Comments  \n",
       "0  Not enough blood for isotopes.  \n",
       "1                             NaN  \n",
       "2                             NaN  \n",
       "3              Adult not sampled.  \n",
       "4                             NaN  "
      ]
     },
     "execution_count": 3,
     "metadata": {},
     "output_type": "execute_result"
    }
   ],
   "source": [
    "penguins_df.head()"
   ]
  },
  {
   "cell_type": "code",
   "execution_count": 4,
   "id": "89f1cc70",
   "metadata": {
    "execution": {
     "iopub.execute_input": "2024-11-05T16:22:44.404807Z",
     "iopub.status.busy": "2024-11-05T16:22:44.403553Z",
     "iopub.status.idle": "2024-11-05T16:22:44.411535Z",
     "shell.execute_reply": "2024-11-05T16:22:44.410248Z"
    },
    "papermill": {
     "duration": 0.018137,
     "end_time": "2024-11-05T16:22:44.413962",
     "exception": false,
     "start_time": "2024-11-05T16:22:44.395825",
     "status": "completed"
    },
    "tags": []
   },
   "outputs": [
    {
     "data": {
      "text/plain": [
       "(344, 17)"
      ]
     },
     "execution_count": 4,
     "metadata": {},
     "output_type": "execute_result"
    }
   ],
   "source": [
    "penguins_df.shape"
   ]
  },
  {
   "cell_type": "code",
   "execution_count": 5,
   "id": "36dac75b",
   "metadata": {
    "execution": {
     "iopub.execute_input": "2024-11-05T16:22:44.432225Z",
     "iopub.status.busy": "2024-11-05T16:22:44.431705Z",
     "iopub.status.idle": "2024-11-05T16:22:44.461264Z",
     "shell.execute_reply": "2024-11-05T16:22:44.459899Z"
    },
    "papermill": {
     "duration": 0.043107,
     "end_time": "2024-11-05T16:22:44.463626",
     "exception": false,
     "start_time": "2024-11-05T16:22:44.420519",
     "status": "completed"
    },
    "tags": []
   },
   "outputs": [
    {
     "name": "stdout",
     "output_type": "stream",
     "text": [
      "<class 'pandas.core.frame.DataFrame'>\n",
      "RangeIndex: 344 entries, 0 to 343\n",
      "Data columns (total 17 columns):\n",
      " #   Column               Non-Null Count  Dtype  \n",
      "---  ------               --------------  -----  \n",
      " 0   studyName            344 non-null    object \n",
      " 1   Sample Number        344 non-null    int64  \n",
      " 2   Species              344 non-null    object \n",
      " 3   Region               344 non-null    object \n",
      " 4   Island               344 non-null    object \n",
      " 5   Stage                344 non-null    object \n",
      " 6   Individual ID        344 non-null    object \n",
      " 7   Clutch Completion    344 non-null    object \n",
      " 8   Date Egg             344 non-null    object \n",
      " 9   Culmen Length (mm)   342 non-null    float64\n",
      " 10  Culmen Depth (mm)    342 non-null    float64\n",
      " 11  Flipper Length (mm)  342 non-null    float64\n",
      " 12  Body Mass (g)        342 non-null    float64\n",
      " 13  Sex                  334 non-null    object \n",
      " 14  Delta 15 N (o/oo)    330 non-null    float64\n",
      " 15  Delta 13 C (o/oo)    331 non-null    float64\n",
      " 16  Comments             26 non-null     object \n",
      "dtypes: float64(6), int64(1), object(10)\n",
      "memory usage: 45.8+ KB\n"
     ]
    }
   ],
   "source": [
    "penguins_df.info()"
   ]
  },
  {
   "cell_type": "code",
   "execution_count": 6,
   "id": "c6c8e536",
   "metadata": {
    "execution": {
     "iopub.execute_input": "2024-11-05T16:22:44.478894Z",
     "iopub.status.busy": "2024-11-05T16:22:44.478368Z",
     "iopub.status.idle": "2024-11-05T16:22:44.519680Z",
     "shell.execute_reply": "2024-11-05T16:22:44.518431Z"
    },
    "papermill": {
     "duration": 0.052305,
     "end_time": "2024-11-05T16:22:44.522151",
     "exception": false,
     "start_time": "2024-11-05T16:22:44.469846",
     "status": "completed"
    },
    "tags": []
   },
   "outputs": [
    {
     "data": {
      "text/html": [
       "<div>\n",
       "<style scoped>\n",
       "    .dataframe tbody tr th:only-of-type {\n",
       "        vertical-align: middle;\n",
       "    }\n",
       "\n",
       "    .dataframe tbody tr th {\n",
       "        vertical-align: top;\n",
       "    }\n",
       "\n",
       "    .dataframe thead th {\n",
       "        text-align: right;\n",
       "    }\n",
       "</style>\n",
       "<table border=\"1\" class=\"dataframe\">\n",
       "  <thead>\n",
       "    <tr style=\"text-align: right;\">\n",
       "      <th></th>\n",
       "      <th>Sample Number</th>\n",
       "      <th>Culmen Length (mm)</th>\n",
       "      <th>Culmen Depth (mm)</th>\n",
       "      <th>Flipper Length (mm)</th>\n",
       "      <th>Body Mass (g)</th>\n",
       "      <th>Delta 15 N (o/oo)</th>\n",
       "      <th>Delta 13 C (o/oo)</th>\n",
       "    </tr>\n",
       "  </thead>\n",
       "  <tbody>\n",
       "    <tr>\n",
       "      <th>count</th>\n",
       "      <td>344.000000</td>\n",
       "      <td>342.000000</td>\n",
       "      <td>342.000000</td>\n",
       "      <td>342.000000</td>\n",
       "      <td>342.000000</td>\n",
       "      <td>330.000000</td>\n",
       "      <td>331.000000</td>\n",
       "    </tr>\n",
       "    <tr>\n",
       "      <th>mean</th>\n",
       "      <td>63.151163</td>\n",
       "      <td>43.921930</td>\n",
       "      <td>17.151170</td>\n",
       "      <td>200.915205</td>\n",
       "      <td>4201.754386</td>\n",
       "      <td>8.733382</td>\n",
       "      <td>-25.686292</td>\n",
       "    </tr>\n",
       "    <tr>\n",
       "      <th>std</th>\n",
       "      <td>40.430199</td>\n",
       "      <td>5.459584</td>\n",
       "      <td>1.974793</td>\n",
       "      <td>14.061714</td>\n",
       "      <td>801.954536</td>\n",
       "      <td>0.551770</td>\n",
       "      <td>0.793961</td>\n",
       "    </tr>\n",
       "    <tr>\n",
       "      <th>min</th>\n",
       "      <td>1.000000</td>\n",
       "      <td>32.100000</td>\n",
       "      <td>13.100000</td>\n",
       "      <td>172.000000</td>\n",
       "      <td>2700.000000</td>\n",
       "      <td>7.632200</td>\n",
       "      <td>-27.018540</td>\n",
       "    </tr>\n",
       "    <tr>\n",
       "      <th>25%</th>\n",
       "      <td>29.000000</td>\n",
       "      <td>39.225000</td>\n",
       "      <td>15.600000</td>\n",
       "      <td>190.000000</td>\n",
       "      <td>3550.000000</td>\n",
       "      <td>8.299890</td>\n",
       "      <td>-26.320305</td>\n",
       "    </tr>\n",
       "    <tr>\n",
       "      <th>50%</th>\n",
       "      <td>58.000000</td>\n",
       "      <td>44.450000</td>\n",
       "      <td>17.300000</td>\n",
       "      <td>197.000000</td>\n",
       "      <td>4050.000000</td>\n",
       "      <td>8.652405</td>\n",
       "      <td>-25.833520</td>\n",
       "    </tr>\n",
       "    <tr>\n",
       "      <th>75%</th>\n",
       "      <td>95.250000</td>\n",
       "      <td>48.500000</td>\n",
       "      <td>18.700000</td>\n",
       "      <td>213.000000</td>\n",
       "      <td>4750.000000</td>\n",
       "      <td>9.172123</td>\n",
       "      <td>-25.062050</td>\n",
       "    </tr>\n",
       "    <tr>\n",
       "      <th>max</th>\n",
       "      <td>152.000000</td>\n",
       "      <td>59.600000</td>\n",
       "      <td>21.500000</td>\n",
       "      <td>231.000000</td>\n",
       "      <td>6300.000000</td>\n",
       "      <td>10.025440</td>\n",
       "      <td>-23.787670</td>\n",
       "    </tr>\n",
       "  </tbody>\n",
       "</table>\n",
       "</div>"
      ],
      "text/plain": [
       "       Sample Number  Culmen Length (mm)  Culmen Depth (mm)  \\\n",
       "count     344.000000          342.000000         342.000000   \n",
       "mean       63.151163           43.921930          17.151170   \n",
       "std        40.430199            5.459584           1.974793   \n",
       "min         1.000000           32.100000          13.100000   \n",
       "25%        29.000000           39.225000          15.600000   \n",
       "50%        58.000000           44.450000          17.300000   \n",
       "75%        95.250000           48.500000          18.700000   \n",
       "max       152.000000           59.600000          21.500000   \n",
       "\n",
       "       Flipper Length (mm)  Body Mass (g)  Delta 15 N (o/oo)  \\\n",
       "count           342.000000     342.000000         330.000000   \n",
       "mean            200.915205    4201.754386           8.733382   \n",
       "std              14.061714     801.954536           0.551770   \n",
       "min             172.000000    2700.000000           7.632200   \n",
       "25%             190.000000    3550.000000           8.299890   \n",
       "50%             197.000000    4050.000000           8.652405   \n",
       "75%             213.000000    4750.000000           9.172123   \n",
       "max             231.000000    6300.000000          10.025440   \n",
       "\n",
       "       Delta 13 C (o/oo)  \n",
       "count         331.000000  \n",
       "mean          -25.686292  \n",
       "std             0.793961  \n",
       "min           -27.018540  \n",
       "25%           -26.320305  \n",
       "50%           -25.833520  \n",
       "75%           -25.062050  \n",
       "max           -23.787670  "
      ]
     },
     "execution_count": 6,
     "metadata": {},
     "output_type": "execute_result"
    }
   ],
   "source": [
    "penguins_df.describe()"
   ]
  },
  {
   "cell_type": "code",
   "execution_count": 7,
   "id": "88cc18e6",
   "metadata": {
    "execution": {
     "iopub.execute_input": "2024-11-05T16:22:44.537352Z",
     "iopub.status.busy": "2024-11-05T16:22:44.536506Z",
     "iopub.status.idle": "2024-11-05T16:22:44.548160Z",
     "shell.execute_reply": "2024-11-05T16:22:44.546537Z"
    },
    "papermill": {
     "duration": 0.022406,
     "end_time": "2024-11-05T16:22:44.551094",
     "exception": false,
     "start_time": "2024-11-05T16:22:44.528688",
     "status": "completed"
    },
    "tags": []
   },
   "outputs": [
    {
     "data": {
      "text/plain": [
       "studyName                0\n",
       "Sample Number            0\n",
       "Species                  0\n",
       "Region                   0\n",
       "Island                   0\n",
       "Stage                    0\n",
       "Individual ID            0\n",
       "Clutch Completion        0\n",
       "Date Egg                 0\n",
       "Culmen Length (mm)       2\n",
       "Culmen Depth (mm)        2\n",
       "Flipper Length (mm)      2\n",
       "Body Mass (g)            2\n",
       "Sex                     10\n",
       "Delta 15 N (o/oo)       14\n",
       "Delta 13 C (o/oo)       13\n",
       "Comments               318\n",
       "dtype: int64"
      ]
     },
     "execution_count": 7,
     "metadata": {},
     "output_type": "execute_result"
    }
   ],
   "source": [
    "penguins_df.isnull().sum()"
   ]
  },
  {
   "cell_type": "code",
   "execution_count": 8,
   "id": "2e4f0dfe",
   "metadata": {
    "execution": {
     "iopub.execute_input": "2024-11-05T16:22:44.569144Z",
     "iopub.status.busy": "2024-11-05T16:22:44.568546Z",
     "iopub.status.idle": "2024-11-05T16:22:44.578898Z",
     "shell.execute_reply": "2024-11-05T16:22:44.577421Z"
    },
    "papermill": {
     "duration": 0.021204,
     "end_time": "2024-11-05T16:22:44.581943",
     "exception": false,
     "start_time": "2024-11-05T16:22:44.560739",
     "status": "completed"
    },
    "tags": []
   },
   "outputs": [],
   "source": [
    "# now first we will drop the columns that wont be required in model training\n",
    "columns_drop = ['studyName', 'Sample Number', 'Individual ID', 'Comments', 'Date Egg']\n",
    "penguins_df = penguins_df.drop(columns=columns_drop)"
   ]
  },
  {
   "cell_type": "code",
   "execution_count": 9,
   "id": "9a5af713",
   "metadata": {
    "execution": {
     "iopub.execute_input": "2024-11-05T16:22:44.599276Z",
     "iopub.status.busy": "2024-11-05T16:22:44.598640Z",
     "iopub.status.idle": "2024-11-05T16:22:44.607119Z",
     "shell.execute_reply": "2024-11-05T16:22:44.605899Z"
    },
    "papermill": {
     "duration": 0.020586,
     "end_time": "2024-11-05T16:22:44.609517",
     "exception": false,
     "start_time": "2024-11-05T16:22:44.588931",
     "status": "completed"
    },
    "tags": []
   },
   "outputs": [],
   "source": [
    "# of the remaining columns as not many of their values are missing so for simplicity we'll just drop them\n",
    "penguins_df = penguins_df.dropna()\n"
   ]
  },
  {
   "cell_type": "code",
   "execution_count": 10,
   "id": "1141317d",
   "metadata": {
    "execution": {
     "iopub.execute_input": "2024-11-05T16:22:44.625349Z",
     "iopub.status.busy": "2024-11-05T16:22:44.624273Z",
     "iopub.status.idle": "2024-11-05T16:22:44.638426Z",
     "shell.execute_reply": "2024-11-05T16:22:44.637076Z"
    },
    "papermill": {
     "duration": 0.025266,
     "end_time": "2024-11-05T16:22:44.641197",
     "exception": false,
     "start_time": "2024-11-05T16:22:44.615931",
     "status": "completed"
    },
    "tags": []
   },
   "outputs": [
    {
     "name": "stdout",
     "output_type": "stream",
     "text": [
      "<class 'pandas.core.frame.DataFrame'>\n",
      "Index: 325 entries, 1 to 343\n",
      "Data columns (total 12 columns):\n",
      " #   Column               Non-Null Count  Dtype  \n",
      "---  ------               --------------  -----  \n",
      " 0   Species              325 non-null    object \n",
      " 1   Region               325 non-null    object \n",
      " 2   Island               325 non-null    object \n",
      " 3   Stage                325 non-null    object \n",
      " 4   Clutch Completion    325 non-null    object \n",
      " 5   Culmen Length (mm)   325 non-null    float64\n",
      " 6   Culmen Depth (mm)    325 non-null    float64\n",
      " 7   Flipper Length (mm)  325 non-null    float64\n",
      " 8   Body Mass (g)        325 non-null    float64\n",
      " 9   Sex                  325 non-null    object \n",
      " 10  Delta 15 N (o/oo)    325 non-null    float64\n",
      " 11  Delta 13 C (o/oo)    325 non-null    float64\n",
      "dtypes: float64(6), object(6)\n",
      "memory usage: 33.0+ KB\n"
     ]
    }
   ],
   "source": [
    "# just to check if there are any null values\n",
    "penguins_df.info()"
   ]
  },
  {
   "cell_type": "code",
   "execution_count": 11,
   "id": "9e4843c2",
   "metadata": {
    "execution": {
     "iopub.execute_input": "2024-11-05T16:22:44.657497Z",
     "iopub.status.busy": "2024-11-05T16:22:44.656368Z",
     "iopub.status.idle": "2024-11-05T16:22:46.097114Z",
     "shell.execute_reply": "2024-11-05T16:22:46.095855Z"
    },
    "papermill": {
     "duration": 1.451577,
     "end_time": "2024-11-05T16:22:46.099755",
     "exception": false,
     "start_time": "2024-11-05T16:22:44.648178",
     "status": "completed"
    },
    "tags": []
   },
   "outputs": [],
   "source": [
    "# importing the necessary libraries\n",
    "from sklearn.preprocessing import LabelEncoder\n",
    "import pandas as pd"
   ]
  },
  {
   "cell_type": "code",
   "execution_count": 12,
   "id": "1a2ce062",
   "metadata": {
    "execution": {
     "iopub.execute_input": "2024-11-05T16:22:46.114782Z",
     "iopub.status.busy": "2024-11-05T16:22:46.114189Z",
     "iopub.status.idle": "2024-11-05T16:22:46.121189Z",
     "shell.execute_reply": "2024-11-05T16:22:46.119809Z"
    },
    "papermill": {
     "duration": 0.017429,
     "end_time": "2024-11-05T16:22:46.123721",
     "exception": false,
     "start_time": "2024-11-05T16:22:46.106292",
     "status": "completed"
    },
    "tags": []
   },
   "outputs": [],
   "source": [
    "# now we will perform some encoding we will first encode our target column species into numerical values.\n",
    "l_encode = LabelEncoder()\n",
    "penguins_df['Species'] = l_encode.fit_transform(penguins_df['Species'])"
   ]
  },
  {
   "cell_type": "code",
   "execution_count": 13,
   "id": "c63d4abe",
   "metadata": {
    "execution": {
     "iopub.execute_input": "2024-11-05T16:22:46.139277Z",
     "iopub.status.busy": "2024-11-05T16:22:46.138181Z",
     "iopub.status.idle": "2024-11-05T16:22:46.152590Z",
     "shell.execute_reply": "2024-11-05T16:22:46.151473Z"
    },
    "papermill": {
     "duration": 0.025201,
     "end_time": "2024-11-05T16:22:46.155445",
     "exception": false,
     "start_time": "2024-11-05T16:22:46.130244",
     "status": "completed"
    },
    "tags": []
   },
   "outputs": [],
   "source": [
    "# now for the below columns we will convert them using binary encoding\n",
    "categorical = ['Region', 'Island', 'Stage', 'Clutch Completion', 'Sex']\n",
    "penguins_df = pd.get_dummies(penguins_df, columns=categorical, drop_first=True)"
   ]
  },
  {
   "cell_type": "code",
   "execution_count": 14,
   "id": "e7ca26d3",
   "metadata": {
    "execution": {
     "iopub.execute_input": "2024-11-05T16:22:46.170525Z",
     "iopub.status.busy": "2024-11-05T16:22:46.170119Z",
     "iopub.status.idle": "2024-11-05T16:22:46.190744Z",
     "shell.execute_reply": "2024-11-05T16:22:46.189323Z"
    },
    "papermill": {
     "duration": 0.030887,
     "end_time": "2024-11-05T16:22:46.193215",
     "exception": false,
     "start_time": "2024-11-05T16:22:46.162328",
     "status": "completed"
    },
    "tags": []
   },
   "outputs": [
    {
     "data": {
      "text/html": [
       "<div>\n",
       "<style scoped>\n",
       "    .dataframe tbody tr th:only-of-type {\n",
       "        vertical-align: middle;\n",
       "    }\n",
       "\n",
       "    .dataframe tbody tr th {\n",
       "        vertical-align: top;\n",
       "    }\n",
       "\n",
       "    .dataframe thead th {\n",
       "        text-align: right;\n",
       "    }\n",
       "</style>\n",
       "<table border=\"1\" class=\"dataframe\">\n",
       "  <thead>\n",
       "    <tr style=\"text-align: right;\">\n",
       "      <th></th>\n",
       "      <th>Species</th>\n",
       "      <th>Culmen Length (mm)</th>\n",
       "      <th>Culmen Depth (mm)</th>\n",
       "      <th>Flipper Length (mm)</th>\n",
       "      <th>Body Mass (g)</th>\n",
       "      <th>Delta 15 N (o/oo)</th>\n",
       "      <th>Delta 13 C (o/oo)</th>\n",
       "      <th>Island_Dream</th>\n",
       "      <th>Island_Torgersen</th>\n",
       "      <th>Clutch Completion_Yes</th>\n",
       "      <th>Sex_FEMALE</th>\n",
       "      <th>Sex_MALE</th>\n",
       "    </tr>\n",
       "  </thead>\n",
       "  <tbody>\n",
       "    <tr>\n",
       "      <th>1</th>\n",
       "      <td>0</td>\n",
       "      <td>39.5</td>\n",
       "      <td>17.4</td>\n",
       "      <td>186.0</td>\n",
       "      <td>3800.0</td>\n",
       "      <td>8.94956</td>\n",
       "      <td>-24.69454</td>\n",
       "      <td>False</td>\n",
       "      <td>True</td>\n",
       "      <td>True</td>\n",
       "      <td>True</td>\n",
       "      <td>False</td>\n",
       "    </tr>\n",
       "    <tr>\n",
       "      <th>2</th>\n",
       "      <td>0</td>\n",
       "      <td>40.3</td>\n",
       "      <td>18.0</td>\n",
       "      <td>195.0</td>\n",
       "      <td>3250.0</td>\n",
       "      <td>8.36821</td>\n",
       "      <td>-25.33302</td>\n",
       "      <td>False</td>\n",
       "      <td>True</td>\n",
       "      <td>True</td>\n",
       "      <td>True</td>\n",
       "      <td>False</td>\n",
       "    </tr>\n",
       "    <tr>\n",
       "      <th>4</th>\n",
       "      <td>0</td>\n",
       "      <td>36.7</td>\n",
       "      <td>19.3</td>\n",
       "      <td>193.0</td>\n",
       "      <td>3450.0</td>\n",
       "      <td>8.76651</td>\n",
       "      <td>-25.32426</td>\n",
       "      <td>False</td>\n",
       "      <td>True</td>\n",
       "      <td>True</td>\n",
       "      <td>True</td>\n",
       "      <td>False</td>\n",
       "    </tr>\n",
       "    <tr>\n",
       "      <th>5</th>\n",
       "      <td>0</td>\n",
       "      <td>39.3</td>\n",
       "      <td>20.6</td>\n",
       "      <td>190.0</td>\n",
       "      <td>3650.0</td>\n",
       "      <td>8.66496</td>\n",
       "      <td>-25.29805</td>\n",
       "      <td>False</td>\n",
       "      <td>True</td>\n",
       "      <td>True</td>\n",
       "      <td>False</td>\n",
       "      <td>True</td>\n",
       "    </tr>\n",
       "    <tr>\n",
       "      <th>6</th>\n",
       "      <td>0</td>\n",
       "      <td>38.9</td>\n",
       "      <td>17.8</td>\n",
       "      <td>181.0</td>\n",
       "      <td>3625.0</td>\n",
       "      <td>9.18718</td>\n",
       "      <td>-25.21799</td>\n",
       "      <td>False</td>\n",
       "      <td>True</td>\n",
       "      <td>False</td>\n",
       "      <td>True</td>\n",
       "      <td>False</td>\n",
       "    </tr>\n",
       "  </tbody>\n",
       "</table>\n",
       "</div>"
      ],
      "text/plain": [
       "   Species  Culmen Length (mm)  Culmen Depth (mm)  Flipper Length (mm)  \\\n",
       "1        0                39.5               17.4                186.0   \n",
       "2        0                40.3               18.0                195.0   \n",
       "4        0                36.7               19.3                193.0   \n",
       "5        0                39.3               20.6                190.0   \n",
       "6        0                38.9               17.8                181.0   \n",
       "\n",
       "   Body Mass (g)  Delta 15 N (o/oo)  Delta 13 C (o/oo)  Island_Dream  \\\n",
       "1         3800.0            8.94956          -24.69454         False   \n",
       "2         3250.0            8.36821          -25.33302         False   \n",
       "4         3450.0            8.76651          -25.32426         False   \n",
       "5         3650.0            8.66496          -25.29805         False   \n",
       "6         3625.0            9.18718          -25.21799         False   \n",
       "\n",
       "   Island_Torgersen  Clutch Completion_Yes  Sex_FEMALE  Sex_MALE  \n",
       "1              True                   True        True     False  \n",
       "2              True                   True        True     False  \n",
       "4              True                   True        True     False  \n",
       "5              True                   True       False      True  \n",
       "6              True                  False        True     False  "
      ]
     },
     "execution_count": 14,
     "metadata": {},
     "output_type": "execute_result"
    }
   ],
   "source": [
    "# lets view it again\n",
    "penguins_df.head()"
   ]
  },
  {
   "cell_type": "code",
   "execution_count": 15,
   "id": "28a3e730",
   "metadata": {
    "execution": {
     "iopub.execute_input": "2024-11-05T16:22:46.208635Z",
     "iopub.status.busy": "2024-11-05T16:22:46.208189Z",
     "iopub.status.idle": "2024-11-05T16:22:46.214949Z",
     "shell.execute_reply": "2024-11-05T16:22:46.213808Z"
    },
    "papermill": {
     "duration": 0.017141,
     "end_time": "2024-11-05T16:22:46.217312",
     "exception": false,
     "start_time": "2024-11-05T16:22:46.200171",
     "status": "completed"
    },
    "tags": []
   },
   "outputs": [],
   "source": [
    "# seperating the target and feature variables\n",
    "X = penguins_df.drop(columns=['Species'])\n",
    "y = penguins_df['Species']     "
   ]
  },
  {
   "cell_type": "code",
   "execution_count": 16,
   "id": "1b76e7e5",
   "metadata": {
    "execution": {
     "iopub.execute_input": "2024-11-05T16:22:46.233235Z",
     "iopub.status.busy": "2024-11-05T16:22:46.232190Z",
     "iopub.status.idle": "2024-11-05T16:22:46.239006Z",
     "shell.execute_reply": "2024-11-05T16:22:46.237878Z"
    },
    "papermill": {
     "duration": 0.017331,
     "end_time": "2024-11-05T16:22:46.241533",
     "exception": false,
     "start_time": "2024-11-05T16:22:46.224202",
     "status": "completed"
    },
    "tags": []
   },
   "outputs": [
    {
     "name": "stdout",
     "output_type": "stream",
     "text": [
      "Shape of X (features): (325, 11)\n",
      "Shape of y (target): (325,)\n"
     ]
    }
   ],
   "source": [
    "# lets confirm\n",
    "print(\"Shape of X (features):\", X.shape)\n",
    "print(\"Shape of y (target):\", y.shape)"
   ]
  },
  {
   "cell_type": "code",
   "execution_count": 17,
   "id": "ecb77042",
   "metadata": {
    "execution": {
     "iopub.execute_input": "2024-11-05T16:22:46.257149Z",
     "iopub.status.busy": "2024-11-05T16:22:46.256679Z",
     "iopub.status.idle": "2024-11-05T16:22:46.394452Z",
     "shell.execute_reply": "2024-11-05T16:22:46.393112Z"
    },
    "papermill": {
     "duration": 0.148783,
     "end_time": "2024-11-05T16:22:46.397255",
     "exception": false,
     "start_time": "2024-11-05T16:22:46.248472",
     "status": "completed"
    },
    "tags": []
   },
   "outputs": [],
   "source": [
    "from sklearn.model_selection import train_test_split\n",
    "X_train, X_test, y_train, y_test = train_test_split(X, y, test_size=0.2, random_state=42)"
   ]
  },
  {
   "cell_type": "code",
   "execution_count": 18,
   "id": "b81edb2d",
   "metadata": {
    "execution": {
     "iopub.execute_input": "2024-11-05T16:22:46.413057Z",
     "iopub.status.busy": "2024-11-05T16:22:46.412543Z",
     "iopub.status.idle": "2024-11-05T16:22:46.689351Z",
     "shell.execute_reply": "2024-11-05T16:22:46.687619Z"
    },
    "papermill": {
     "duration": 0.287694,
     "end_time": "2024-11-05T16:22:46.691880",
     "exception": false,
     "start_time": "2024-11-05T16:22:46.404186",
     "status": "completed"
    },
    "tags": []
   },
   "outputs": [
    {
     "name": "stdout",
     "output_type": "stream",
     "text": [
      "KNN Accuracy: 0.7384615384615385\n"
     ]
    }
   ],
   "source": [
    "# model training using KNN\n",
    "from sklearn.neighbors import KNeighborsClassifier\n",
    "knn = KNeighborsClassifier(n_neighbors=5) \n",
    "# training the model\n",
    "knn.fit(X_train, y_train)\n",
    "# we'll predict the accuracy of the model\n",
    "knn_accuracy = knn.score(X_test, y_test)\n",
    "print(\"KNN Accuracy:\", knn_accuracy)"
   ]
  },
  {
   "cell_type": "code",
   "execution_count": 19,
   "id": "54cd9cbf",
   "metadata": {
    "execution": {
     "iopub.execute_input": "2024-11-05T16:22:46.707293Z",
     "iopub.status.busy": "2024-11-05T16:22:46.706855Z",
     "iopub.status.idle": "2024-11-05T16:22:46.878514Z",
     "shell.execute_reply": "2024-11-05T16:22:46.877296Z"
    },
    "papermill": {
     "duration": 0.182311,
     "end_time": "2024-11-05T16:22:46.881087",
     "exception": false,
     "start_time": "2024-11-05T16:22:46.698776",
     "status": "completed"
    },
    "tags": []
   },
   "outputs": [
    {
     "name": "stdout",
     "output_type": "stream",
     "text": [
      "SVM Accuracy: 1.0\n"
     ]
    }
   ],
   "source": [
    "from sklearn.svm import SVC\n",
    "# intialising the model\n",
    "svm = SVC(kernel='linear')  \n",
    "# training the model\n",
    "svm.fit(X_train, y_train)\n",
    "# we'll predict the accuracy of the model\n",
    "svm_accuracy = svm.score(X_test, y_test)\n",
    "print(\"SVM Accuracy:\", svm_accuracy)"
   ]
  },
  {
   "cell_type": "code",
   "execution_count": 20,
   "id": "6997dd59",
   "metadata": {
    "execution": {
     "iopub.execute_input": "2024-11-05T16:22:46.896682Z",
     "iopub.status.busy": "2024-11-05T16:22:46.896279Z",
     "iopub.status.idle": "2024-11-05T16:22:46.922141Z",
     "shell.execute_reply": "2024-11-05T16:22:46.920697Z"
    },
    "papermill": {
     "duration": 0.036741,
     "end_time": "2024-11-05T16:22:46.924840",
     "exception": false,
     "start_time": "2024-11-05T16:22:46.888099",
     "status": "completed"
    },
    "tags": []
   },
   "outputs": [
    {
     "name": "stdout",
     "output_type": "stream",
     "text": [
      "KNN Model Evaluation:\n",
      "[[24  4  1]\n",
      " [10  3  1]\n",
      " [ 1  0 21]]\n",
      "              precision    recall  f1-score   support\n",
      "\n",
      "           0       0.69      0.83      0.75        29\n",
      "           1       0.43      0.21      0.29        14\n",
      "           2       0.91      0.95      0.93        22\n",
      "\n",
      "    accuracy                           0.74        65\n",
      "   macro avg       0.68      0.67      0.66        65\n",
      "weighted avg       0.71      0.74      0.71        65\n",
      "\n"
     ]
    }
   ],
   "source": [
    "from sklearn.metrics import classification_report, confusion_matrix\n",
    "\n",
    "# Evaluating the KNN model\n",
    "print(\"KNN Model Evaluation:\")\n",
    "y_pred_knn = knn.predict(X_test)\n",
    "print(confusion_matrix(y_test, y_pred_knn))\n",
    "print(classification_report(y_test, y_pred_knn))\n"
   ]
  },
  {
   "cell_type": "code",
   "execution_count": 21,
   "id": "c93e6c56",
   "metadata": {
    "execution": {
     "iopub.execute_input": "2024-11-05T16:22:46.940561Z",
     "iopub.status.busy": "2024-11-05T16:22:46.940146Z",
     "iopub.status.idle": "2024-11-05T16:22:46.958213Z",
     "shell.execute_reply": "2024-11-05T16:22:46.956722Z"
    },
    "papermill": {
     "duration": 0.028804,
     "end_time": "2024-11-05T16:22:46.960744",
     "exception": false,
     "start_time": "2024-11-05T16:22:46.931940",
     "status": "completed"
    },
    "tags": []
   },
   "outputs": [
    {
     "name": "stdout",
     "output_type": "stream",
     "text": [
      "\n",
      "SVM Model Evaluation:\n",
      "[[29  0  0]\n",
      " [ 0 14  0]\n",
      " [ 0  0 22]]\n",
      "              precision    recall  f1-score   support\n",
      "\n",
      "           0       1.00      1.00      1.00        29\n",
      "           1       1.00      1.00      1.00        14\n",
      "           2       1.00      1.00      1.00        22\n",
      "\n",
      "    accuracy                           1.00        65\n",
      "   macro avg       1.00      1.00      1.00        65\n",
      "weighted avg       1.00      1.00      1.00        65\n",
      "\n"
     ]
    }
   ],
   "source": [
    "# Evaluating the SVM model\n",
    "print(\"\\nSVM Model Evaluation:\")\n",
    "y_pred_svm = svm.predict(X_test)\n",
    "print(confusion_matrix(y_test, y_pred_svm))\n",
    "print(classification_report(y_test, y_pred_svm))"
   ]
  }
 ],
 "metadata": {
  "kaggle": {
   "accelerator": "none",
   "dataSources": [
    {
     "datasetId": 6010861,
     "sourceId": 9806291,
     "sourceType": "datasetVersion"
    }
   ],
   "dockerImageVersionId": 30786,
   "isGpuEnabled": false,
   "isInternetEnabled": false,
   "language": "python",
   "sourceType": "notebook"
  },
  "kernelspec": {
   "display_name": "Python 3",
   "language": "python",
   "name": "python3"
  },
  "language_info": {
   "codemirror_mode": {
    "name": "ipython",
    "version": 3
   },
   "file_extension": ".py",
   "mimetype": "text/x-python",
   "name": "python",
   "nbconvert_exporter": "python",
   "pygments_lexer": "ipython3",
   "version": "3.10.14"
  },
  "papermill": {
   "default_parameters": {},
   "duration": 7.239861,
   "end_time": "2024-11-05T16:22:47.590404",
   "environment_variables": {},
   "exception": null,
   "input_path": "__notebook__.ipynb",
   "output_path": "__notebook__.ipynb",
   "parameters": {},
   "start_time": "2024-11-05T16:22:40.350543",
   "version": "2.6.0"
  }
 },
 "nbformat": 4,
 "nbformat_minor": 5
}
